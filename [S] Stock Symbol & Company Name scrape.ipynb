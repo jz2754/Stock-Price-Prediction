{
 "cells": [
  {
   "cell_type": "markdown",
   "id": "9dd02722",
   "metadata": {},
   "source": [
    "## Scrape New York Stock Exchange company names and symbols\n",
    "\n",
    "#### 步骤&注意事项\n",
    "1. User-agent\n",
    "2. 理解这个网站的排版方式，奇数和偶数；找规律 find all (tr, ts0, ts1)\n",
    "3. 抓取下来的数据都是以list 的形式排列，字符串，把他们都拆分开来，然后提取第几个数字，append 到之前就设计好的 list 里面\n",
    "4. 利用循环语句，function 来重复抓取所有的company symbol & ticker \n",
    "\n",
    "#### 问题\n",
    "\n",
    "1. what are the difference between them?\n",
    "        soup = BeautifulSoup(page.text, \"html.parser\") n/\n",
    "        soup = BeautifulSoup(page.text, \"lxml\")\n",
    "\n",
    "2. 视频里面抓取了2480个公司，我们只抓去了 1920个公司，我们看了 以A 开头的公司是 333， match 了网站的333个，所以不知道中间哪里出了什么问题\n",
    "\n",
    "https://www.youtube.com/watch?v=Cb_5A6geOUw&list=WL&index=5\n"
   ]
  },
  {
   "cell_type": "code",
   "execution_count": 54,
   "id": "d8ef8583",
   "metadata": {},
   "outputs": [],
   "source": [
    "import requests\n",
    "import pandas as pd\n",
    "from bs4 import BeautifulSoup\n",
    "import time"
   ]
  },
  {
   "cell_type": "code",
   "execution_count": 49,
   "id": "0fa75b69",
   "metadata": {},
   "outputs": [],
   "source": [
    "headers = {\"User-Agent\": \"Mozilla/5.0 (Windows NT 10.0; Win64; x64) AppleWebKit/537.36 (KHTML, like Gecko) Chrome/101.0.4951.67 Safari/537.36\"}"
   ]
  },
  {
   "cell_type": "code",
   "execution_count": 50,
   "id": "b00d2eb3",
   "metadata": {},
   "outputs": [],
   "source": [
    "company_name = []\n",
    "company_ticker = []"
   ]
  },
  {
   "cell_type": "code",
   "execution_count": 51,
   "id": "1c61660a",
   "metadata": {},
   "outputs": [],
   "source": [
    "def scrape_stock_symbols(Letter):\n",
    "    Letter = Letter.upper()\n",
    "    url = 'https://www.advfn.com/nyse/newyorkstockexchange.asp?companies=' + Letter\n",
    "    page = requests.get(url, headers=headers)\n",
    "    soup = BeautifulSoup(page.text, \"html.parser\")\n",
    "    odd_rows = soup.find_all('tr', attrs={'class':'ts0'})\n",
    "    even_rows = soup.find_all('tr', attr={'class':'ts1'})\n",
    "\n",
    "    for i in odd_rows:\n",
    "        row = i.find_all('td')\n",
    "        company_name.append(row[0].text.strip())\n",
    "        company_ticker.append(row[1].text.strip())\n",
    "    \n",
    "    for i in even_rows:\n",
    "        row = i.find_all('td')\n",
    "        company_name.append(row[0].text.strip())\n",
    "        company_ticker.append(row[1].text.strip())\n",
    "\n",
    "    return (company_name, company_ticker)\n",
    "    "
   ]
  },
  {
   "cell_type": "code",
   "execution_count": 52,
   "id": "b847ba49",
   "metadata": {},
   "outputs": [],
   "source": [
    "import string\n",
    "letter_list = string.ascii_uppercase"
   ]
  },
  {
   "cell_type": "code",
   "execution_count": 55,
   "id": "b8f656e6",
   "metadata": {},
   "outputs": [],
   "source": [
    "for char in letter_list:\n",
    "    (company_name, company_ticker) = scrape_stock_symbols(char)\n",
    "    time.sleep(0.5)"
   ]
  },
  {
   "cell_type": "code",
   "execution_count": 56,
   "id": "df9061b3",
   "metadata": {},
   "outputs": [
    {
     "data": {
      "text/html": [
       "<div>\n",
       "<style scoped>\n",
       "    .dataframe tbody tr th:only-of-type {\n",
       "        vertical-align: middle;\n",
       "    }\n",
       "\n",
       "    .dataframe tbody tr th {\n",
       "        vertical-align: top;\n",
       "    }\n",
       "\n",
       "    .dataframe thead th {\n",
       "        text-align: right;\n",
       "    }\n",
       "</style>\n",
       "<table border=\"1\" class=\"dataframe\">\n",
       "  <thead>\n",
       "    <tr style=\"text-align: right;\">\n",
       "      <th></th>\n",
       "      <th>Company_Name</th>\n",
       "      <th>Company_Ticker</th>\n",
       "    </tr>\n",
       "  </thead>\n",
       "  <tbody>\n",
       "    <tr>\n",
       "      <th>0</th>\n",
       "      <td>A H Belo Corporation</td>\n",
       "      <td>AHC</td>\n",
       "    </tr>\n",
       "    <tr>\n",
       "      <th>1</th>\n",
       "      <td>AAR Corp</td>\n",
       "      <td>AIR</td>\n",
       "    </tr>\n",
       "    <tr>\n",
       "      <th>2</th>\n",
       "      <td>ABM Industries Inc</td>\n",
       "      <td>ABM</td>\n",
       "    </tr>\n",
       "    <tr>\n",
       "      <th>3</th>\n",
       "      <td>ADC Therapeutics SA</td>\n",
       "      <td>ADCT</td>\n",
       "    </tr>\n",
       "    <tr>\n",
       "      <th>4</th>\n",
       "      <td>AEABridges Impact Corp</td>\n",
       "      <td>IMPX</td>\n",
       "    </tr>\n",
       "    <tr>\n",
       "      <th>...</th>\n",
       "      <td>...</td>\n",
       "      <td>...</td>\n",
       "    </tr>\n",
       "    <tr>\n",
       "      <th>1923</th>\n",
       "      <td>Zhihu Inc</td>\n",
       "      <td>ZH</td>\n",
       "    </tr>\n",
       "    <tr>\n",
       "      <th>1924</th>\n",
       "      <td>Zions Bancorporation NA</td>\n",
       "      <td>ZBK</td>\n",
       "    </tr>\n",
       "    <tr>\n",
       "      <th>1925</th>\n",
       "      <td>Zoes Kitchen, Inc.</td>\n",
       "      <td>ZOES</td>\n",
       "    </tr>\n",
       "    <tr>\n",
       "      <th>1926</th>\n",
       "      <td>Zuora Inc</td>\n",
       "      <td>ZUO</td>\n",
       "    </tr>\n",
       "    <tr>\n",
       "      <th>1927</th>\n",
       "      <td>Zymeworks Inc</td>\n",
       "      <td>ZYME</td>\n",
       "    </tr>\n",
       "  </tbody>\n",
       "</table>\n",
       "<p>1928 rows × 2 columns</p>\n",
       "</div>"
      ],
      "text/plain": [
       "                 Company_Name Company_Ticker\n",
       "0        A H Belo Corporation            AHC\n",
       "1                    AAR Corp            AIR\n",
       "2          ABM Industries Inc            ABM\n",
       "3         ADC Therapeutics SA           ADCT\n",
       "4      AEABridges Impact Corp           IMPX\n",
       "...                       ...            ...\n",
       "1923                Zhihu Inc             ZH\n",
       "1924  Zions Bancorporation NA            ZBK\n",
       "1925       Zoes Kitchen, Inc.           ZOES\n",
       "1926                Zuora Inc            ZUO\n",
       "1927            Zymeworks Inc           ZYME\n",
       "\n",
       "[1928 rows x 2 columns]"
      ]
     },
     "execution_count": 56,
     "metadata": {},
     "output_type": "execute_result"
    }
   ],
   "source": [
    "data = pd.DataFrame(columns=['Company_Name', 'Company_Ticker'])\n",
    "data['Company_Name'] = company_name\n",
    "data['Company_Ticker'] = company_ticker\n",
    "data"
   ]
  },
  {
   "cell_type": "code",
   "execution_count": null,
   "id": "ae0019d7",
   "metadata": {},
   "outputs": [],
   "source": []
  }
 ],
 "metadata": {
  "kernelspec": {
   "display_name": "Python 3 (ipykernel)",
   "language": "python",
   "name": "python3"
  },
  "language_info": {
   "codemirror_mode": {
    "name": "ipython",
    "version": 3
   },
   "file_extension": ".py",
   "mimetype": "text/x-python",
   "name": "python",
   "nbconvert_exporter": "python",
   "pygments_lexer": "ipython3",
   "version": "3.9.7"
  }
 },
 "nbformat": 4,
 "nbformat_minor": 5
}
